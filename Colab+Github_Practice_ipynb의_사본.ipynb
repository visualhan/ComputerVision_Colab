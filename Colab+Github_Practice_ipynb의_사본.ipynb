{
  "nbformat": 4,
  "nbformat_minor": 0,
  "metadata": {
    "colab": {
      "name": "Colab+Github Practice.ipynb의 사본",
      "provenance": [],
      "collapsed_sections": [],
      "authorship_tag": "ABX9TyO0ezwjgagVaM9D6zXRr5vx",
      "include_colab_link": true
    },
    "kernelspec": {
      "name": "python3",
      "display_name": "Python 3"
    },
    "language_info": {
      "name": "python"
    }
  },
  "cells": [
    {
      "cell_type": "markdown",
      "metadata": {
        "id": "view-in-github",
        "colab_type": "text"
      },
      "source": [
        "<a href=\"https://colab.research.google.com/github/visualhan/ComputerVision_Colab/blob/main/Colab%2BGithub_Practice_ipynb%EC%9D%98_%EC%82%AC%EB%B3%B8.ipynb\" target=\"_parent\"><img src=\"https://colab.research.google.com/assets/colab-badge.svg\" alt=\"Open In Colab\"/></a>"
      ]
    },
    {
      "cell_type": "markdown",
      "metadata": {
        "id": "JvijbI5jL-Oe"
      },
      "source": [
        "#Colab과 GitHub 연동하기\n",
        "Let's learn how to use Colab an GitHub\n",
        "\n",
        "수정사항 업데이트 하기\n",
        "revised using colab"
      ]
    },
    {
      "cell_type": "code",
      "metadata": {
        "colab": {
          "base_uri": "https://localhost:8080/"
        },
        "id": "swXE58l0L2QS",
        "outputId": "0a5608b2-3839-4e55-b5a9-347424aaa6e2"
      },
      "source": [
        "print(\"Bye Colab and GitHub\")"
      ],
      "execution_count": null,
      "outputs": [
        {
          "output_type": "stream",
          "text": [
            "Bye Colab and GitHub\n"
          ],
          "name": "stdout"
        }
      ]
    }
  ]
}